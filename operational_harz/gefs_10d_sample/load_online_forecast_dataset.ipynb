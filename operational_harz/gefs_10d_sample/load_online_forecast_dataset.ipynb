{
 "cells": [
  {
   "cell_type": "markdown",
   "id": "06a3469d",
   "metadata": {},
   "source": [
    "# Load and Inspect Online Forecast Dataset\n",
    "\n",
    "This notebook demonstrates how to load and inspect a forecast dataset using the NeuralHydrology config."
   ]
  },
  {
   "cell_type": "code",
   "execution_count": 6,
   "id": "fc88e5d9",
   "metadata": {},
   "outputs": [
    {
     "data": {
      "text/plain": [
       "'/home/sngrj0hn/GitHub/neuralhydrology'"
      ]
     },
     "execution_count": 6,
     "metadata": {},
     "output_type": "execute_result"
    }
   ],
   "source": [
    "import os\n",
    "os.getcwd()"
   ]
  },
  {
   "cell_type": "code",
   "execution_count": 7,
   "id": "3a5f21bd",
   "metadata": {},
   "outputs": [],
   "source": [
    "os.chdir('/home/sngrj0hn/GitHub/neuralhydrology')"
   ]
  },
  {
   "cell_type": "code",
   "execution_count": 8,
   "id": "f583c3ae",
   "metadata": {},
   "outputs": [],
   "source": [
    "import os\n",
    "import sys\n",
    "import numpy as np\n",
    "import pandas as pd\n",
    "import matplotlib.pyplot as plt\n",
    "from pathlib import Path\n",
    "from neuralhydrology.utils.config import Config\n",
    "from neuralhydrology.datasetzoo.onlineforecastdataset import OnlineForecastDataset"
   ]
  },
  {
   "cell_type": "markdown",
   "id": "f7627bea",
   "metadata": {},
   "source": [
    "## Load Configuration\n",
    "\n",
    "First, let's load the configuration file and examine the key settings."
   ]
  },
  {
   "cell_type": "code",
   "execution_count": 9,
   "id": "ed142389",
   "metadata": {},
   "outputs": [],
   "source": [
    "# Load the config file\n",
    "config_path = Path('/home/sngrj0hn/GitHub/neuralhydrology/operational_harz/gefs_10d_sample/config.yml')\n",
    "config = Config(config_path)"
   ]
  },
  {
   "cell_type": "markdown",
   "id": "9410468d",
   "metadata": {},
   "source": [
    "## Create Forecast Dataset\n",
    "\n",
    "Now let's create a ForecastDataset instance and examine its properties."
   ]
  },
  {
   "cell_type": "code",
   "execution_count": null,
   "id": "ef76b034",
   "metadata": {},
   "outputs": [],
   "source": [
    "# Initialize the dataset\n",
    "dataset = OnlineForecastDataset(cfg=config, is_train=True, period='train')"
   ]
  }
 ],
 "metadata": {
  "kernelspec": {
   "display_name": "neuralhydrology",
   "language": "python",
   "name": "python3"
  },
  "language_info": {
   "codemirror_mode": {
    "name": "ipython",
    "version": 3
   },
   "file_extension": ".py",
   "mimetype": "text/x-python",
   "name": "python",
   "nbconvert_exporter": "python",
   "pygments_lexer": "ipython3",
   "version": "3.12.9"
  }
 },
 "nbformat": 4,
 "nbformat_minor": 5
}
