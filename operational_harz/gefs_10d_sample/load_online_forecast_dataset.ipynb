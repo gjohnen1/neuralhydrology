{
 "cells": [
  {
   "cell_type": "markdown",
   "id": "06a3469d",
   "metadata": {},
   "source": [
    "# Load and Inspect Online Forecast Dataset\n",
    "\n",
    "This notebook demonstrates how to load and inspect a forecast dataset using the NeuralHydrology config."
   ]
  },
  {
   "cell_type": "code",
   "execution_count": 1,
   "id": "f583c3ae",
   "metadata": {},
   "outputs": [
    {
     "name": "stdout",
     "output_type": "stream",
     "text": [
      "\n",
      "Module locations after reload:\n",
      "  Config: neuralhydrology.utils.config\n",
      "  ForecastDataset: neuralhydrology.datasetzoo.onlineforecastdataset\n",
      "  ForecastDataset file: No __file__ attribute\n",
      "  Source file exists: True\n",
      "  Source file path: /home/sngrj0hn/GitHub/neuralhydrology/neuralhydrology/datasetzoo/onlineforecastdataset.py\n",
      "  Actual source file: /home/sngrj0hn/GitHub/neuralhydrology/neuralhydrology/datasetzoo/onlineforecastdataset.py\n",
      "\n",
      "✓ Ready for debugging - breakpoints should now work in:\n",
      "  /home/sngrj0hn/GitHub/neuralhydrology/neuralhydrology/datasetzoo/onlineforecastdataset.py\n"
     ]
    }
   ],
   "source": [
    "import os\n",
    "import sys\n",
    "import numpy as np\n",
    "import pandas as pd\n",
    "import matplotlib.pyplot as plt\n",
    "from pathlib import Path\n",
    "\n",
    "# Add local neuralhydrology path for debugging\n",
    "sys.path.insert(0, '/home/sngrj0hn/GitHub/neuralhydrology')\n",
    "\n",
    "# Change to the neuralhydrology root directory (required for config file paths)\n",
    "os.chdir('/home/sngrj0hn/GitHub/neuralhydrology')\n",
    "\n",
    "from neuralhydrology.utils.config import Config\n",
    "from neuralhydrology.datasetzoo.onlineforecastdataset import OnlineForecastDataset\n",
    "\n",
    "# Verify we're using the local development version\n",
    "print(f\"\\nModule locations after reload:\")\n",
    "print(f\"  Config: {Config.__module__}\")\n",
    "print(f\"  ForecastDataset: {OnlineForecastDataset.__module__}\")\n",
    "print(f\"  ForecastDataset file: {OnlineForecastDataset.__file__ if hasattr(OnlineForecastDataset, '__file__') else 'No __file__ attribute'}\")\n",
    "\n",
    "# Check if we can access the source file\n",
    "forecast_source = Path('/home/sngrj0hn/GitHub/neuralhydrology/neuralhydrology/datasetzoo/onlineforecastdataset.py')\n",
    "print(f\"  Source file exists: {forecast_source.exists()}\")\n",
    "if forecast_source.exists():\n",
    "    print(f\"  Source file path: {forecast_source.absolute()}\")\n",
    "    \n",
    "# Additional check - try to get the actual source file path\n",
    "try:\n",
    "    import inspect\n",
    "    source_file = inspect.getfile(OnlineForecastDataset)\n",
    "    print(f\"  Actual source file: {source_file}\")\n",
    "except Exception as e:\n",
    "    print(f\"  Could not get source file: {e}\")\n",
    "\n",
    "print(f\"\\n✓ Ready for debugging - breakpoints should now work in:\")\n",
    "print(f\"  {forecast_source.absolute()}\")"
   ]
  },
  {
   "cell_type": "markdown",
   "id": "f7627bea",
   "metadata": {},
   "source": [
    "## Load Configuration\n",
    "\n",
    "First, let's load the configuration file and examine the key settings."
   ]
  },
  {
   "cell_type": "code",
   "execution_count": 2,
   "id": "ed142389",
   "metadata": {},
   "outputs": [
    {
     "name": "stdout",
     "output_type": "stream",
     "text": [
      "Forecast Configuration:\n",
      "  Forecast sequence length: 240\n",
      "  Forecast offset: 0\n",
      "  Sequence length: 720\n",
      "  Predict last n: 240\n",
      "  Target variables: ['discharge_vol']\n",
      "  Dynamic inputs: ['maximum_temperature_2m_q25', 'maximum_temperature_2m_q50', 'maximum_temperature_2m_q75', 'minimum_temperature_2m_q25', 'minimum_temperature_2m_q50', 'minimum_temperature_2m_q75', 'precipitation_surface_q25', 'precipitation_surface_q50', 'precipitation_surface_q75', 'relative_humidity_2m_q25', 'relative_humidity_2m_q50', 'relative_humidity_2m_q75', 'temperature_2m_q25', 'temperature_2m_q50', 'temperature_2m_q75', 'temperature_2m', 'relative_humidity_2m', 'dew_point_2m', 'precipitation', 'rain', 'snowfall', 'surface_pressure', 'et0_fao_evapotranspiration', 'wind_direction_10m', 'soil_moisture_0_to_7cm', 'soil_moisture_7_to_28cm', 'soil_moisture_28_to_100cm', 'shortwave_radiation']\n",
      "  Forecast inputs: ['maximum_temperature_2m_q25', 'maximum_temperature_2m_q50', 'maximum_temperature_2m_q75', 'minimum_temperature_2m_q25', 'minimum_temperature_2m_q50', 'minimum_temperature_2m_q75', 'precipitation_surface_q25', 'precipitation_surface_q50', 'precipitation_surface_q75', 'relative_humidity_2m_q25', 'relative_humidity_2m_q50', 'relative_humidity_2m_q75', 'temperature_2m_q25', 'temperature_2m_q50', 'temperature_2m_q75']\n",
      "  Hindcast inputs: ['temperature_2m', 'relative_humidity_2m', 'dew_point_2m', 'precipitation', 'rain', 'snowfall', 'surface_pressure', 'et0_fao_evapotranspiration', 'wind_direction_10m', 'soil_moisture_0_to_7cm', 'soil_moisture_7_to_28cm', 'soil_moisture_28_to_100cm', 'shortwave_radiation']\n"
     ]
    }
   ],
   "source": [
    "# Load the config file\n",
    "config_path = Path('/home/sngrj0hn/GitHub/neuralhydrology/operational_harz/gefs_10d_sample/config.yml')\n",
    "config = Config(config_path)\n",
    "\n",
    "# Display key forecast settings\n",
    "print(\"Forecast Configuration:\")\n",
    "print(f\"  Forecast sequence length: {config.forecast_seq_length}\")\n",
    "print(f\"  Forecast offset: {config.forecast_offset}\")\n",
    "print(f\"  Sequence length: {config.seq_length}\")\n",
    "print(f\"  Predict last n: {config.predict_last_n}\")\n",
    "print(f\"  Target variables: {config.target_variables}\")\n",
    "print(f\"  Dynamic inputs: {config.dynamic_inputs}\")\n",
    "print(f\"  Forecast inputs: {config.forecast_inputs}\")\n",
    "print(f\"  Hindcast inputs: {config.hindcast_inputs}\")"
   ]
  },
  {
   "cell_type": "markdown",
   "id": "9410468d",
   "metadata": {},
   "source": [
    "## Create Forecast Dataset\n",
    "\n",
    "Now let's create a ForecastDataset instance and examine its properties."
   ]
  },
  {
   "cell_type": "code",
   "execution_count": null,
   "id": "54b1c649",
   "metadata": {},
   "outputs": [],
   "source": [
    "# Create the forecast dataset\n",
    "dataset = OnlineForecastDataset(\n",
    "    cfg=config,\n",
    "    is_train=True, \n",
    "    period='train'\n",
    ")\n",
    "\n",
    "print(f\"Dataset created with {len(dataset)} samples\")\n",
    "print(f\"Basins: {dataset.basins}\")\n",
    "print(f\"Period: {dataset.period}\")\n",
    "print(f\"Frequencies: {dataset.frequencies}\")\n",
    "print(f\"Sequence length: {dataset.seq_len}\")\n",
    "print(f\"Forecast sequence length: {dataset._forecast_seq_len}\")"
   ]
  }
 ],
 "metadata": {
  "kernelspec": {
   "display_name": "neuralhydrology",
   "language": "python",
   "name": "python3"
  },
  "language_info": {
   "codemirror_mode": {
    "name": "ipython",
    "version": 3
   },
   "file_extension": ".py",
   "mimetype": "text/x-python",
   "name": "python",
   "nbconvert_exporter": "python",
   "pygments_lexer": "ipython3",
   "version": "3.12.9"
  }
 },
 "nbformat": 4,
 "nbformat_minor": 5
}
