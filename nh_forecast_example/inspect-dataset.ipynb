{
 "cells": [
  {
   "cell_type": "code",
   "execution_count": 1,
   "metadata": {},
   "outputs": [],
   "source": [
    "import xarray as xr\n",
    "from pathlib import Path"
   ]
  },
  {
   "cell_type": "code",
   "execution_count": 2,
   "metadata": {},
   "outputs": [
    {
     "data": {
      "text/plain": [
       "'/home/sngrj0hn/GitHub/simonmoulds/neuralhydrology/nh_forecast_example'"
      ]
     },
     "execution_count": 2,
     "metadata": {},
     "output_type": "execute_result"
    }
   ],
   "source": [
    "import os\n",
    "os.getcwd()"
   ]
  },
  {
   "cell_type": "code",
   "execution_count": 3,
   "metadata": {},
   "outputs": [
    {
     "name": "stdout",
     "output_type": "stream",
     "text": [
      "<xarray.Dataset> Size: 2MB\n",
      "Dimensions:                                             (date: 8401,\n",
      "                                                         lead_time: 10)\n",
      "Coordinates:\n",
      "  * date                                                (date) datetime64[ns] 67kB ...\n",
      "  * lead_time                                           (lead_time) timedelta64[ns] 80B ...\n",
      "Data variables:\n",
      "    graphcast_temperature_2m                            (date, lead_time) float32 336kB ...\n",
      "    graphcast_total_precipitation                       (date, lead_time) float32 336kB ...\n",
      "    graphcast_u_component_of_wind_10m                   (date, lead_time) float32 336kB ...\n",
      "    graphcast_v_component_of_wind_10m                   (date, lead_time) float32 336kB ...\n",
      "    era5land_temperature_2m                             (date) float32 34kB ...\n",
      "    era5land_total_precipitation                        (date) float32 34kB ...\n",
      "    era5land_u_component_of_wind_10m                    (date) float32 34kB ...\n",
      "    era5land_v_component_of_wind_10m                    (date) float32 34kB ...\n",
      "    era5land_potential_evaporation_FAO_PENMAN_MONTEITH  (date) float32 34kB ...\n",
      "    Q                                                   (date) float64 67kB ...\n",
      "Attributes:\n",
      "    Citation:  Muñoz Sabater, J. (2019): ERA5-Land hourly data from 1950 to p...\n",
      "    License:   https://cds.climate.copernicus.eu/api/v2/terms/static/licence-...\n",
      "    Product:   ERA5-Land\n",
      "    Released:  2024-11-13\n",
      "    Sources:   All forcing and state variables are derived from ERA5-Land hou...\n",
      "    Units:     dewpoint_temperature_2m: Dew point temperature [°C]\\npotential...\n",
      "    Version:   1.0\n",
      "\n",
      "Global Attributes:\n",
      "{'Citation': 'Muñoz Sabater, J. (2019): ERA5-Land hourly data from 1950 to present. Copernicus Climate Change Service (C3S) Climate Data Store (CDS). DOI: 10.24381/cds.e2161bac', 'License': 'https://cds.climate.copernicus.eu/api/v2/terms/static/licence-to-use-copernicus-products.pdf', 'Product': 'ERA5-Land', 'Released': '2024-11-13', 'Sources': 'All forcing and state variables are derived from ERA5-Land hourly by ECMWF. https://cds.climate.copernicus.eu/cdsapp#!/dataset/reanalysis-era5-land', 'Units': 'dewpoint_temperature_2m: Dew point temperature [°C]\\npotential_evaporation_DEPRECATED: Potential Evaporation [mm] (original potential_evaporation from ERA5-Land)\\npotential_evaporation_FAO_PENMAN_MONTEITH: Potential Evaporation [mm] (FAO Penman-Monteith computed from ERA5-Land inputs)\\nsnow_depth_water_equivalent: Snow-Water-Equivalent [mm]\\nsurface_net_solar_radiation: Surface net solar radiation [W/m2]\\nsurface_net_thermal_radiation: Surface net thermal radiation [W/m2]\\nsurface_pressure: Surface pressure [kPa]\\ntemperature_2m: 2m air temperature [°C]\\nu_component_of_wind_10m: U-component of wind at 10m [m/s]\\nv_component_of_wind_10m: V-component of wind at 10m [m/s]\\nvolumetric_soil_water_layer_1: Volumetric soil water layer 1 (0-7cm) [m3/m3]\\nvolumetric_soil_water_layer_2: Volumetric soil water layer 2 (7-28cm) [m3/m3]\\nvolumetric_soil_water_layer_3: Volumetric soil water layer 3 (28-100cm) [m3/m3]\\nvolumetric_soil_water_layer_4: Volumetric soil water layer 4 (100-289cm) [m3/m3]\\ntotal_precipitation: Total precipitation [mm]', 'Version': '1.0'}\n",
      "\n",
      "Variables:\n",
      "date: ('date',), (8401,)\n",
      "lead_time: ('lead_time',), (10,)\n",
      "graphcast_temperature_2m: ('date', 'lead_time'), (8401, 10)\n",
      "graphcast_total_precipitation: ('date', 'lead_time'), (8401, 10)\n",
      "graphcast_u_component_of_wind_10m: ('date', 'lead_time'), (8401, 10)\n",
      "graphcast_v_component_of_wind_10m: ('date', 'lead_time'), (8401, 10)\n",
      "era5land_temperature_2m: ('date',), (8401,)\n",
      "era5land_total_precipitation: ('date',), (8401,)\n",
      "era5land_u_component_of_wind_10m: ('date',), (8401,)\n",
      "era5land_v_component_of_wind_10m: ('date',), (8401,)\n",
      "era5land_potential_evaporation_FAO_PENMAN_MONTEITH: ('date',), (8401,)\n",
      "Q: ('date',), (8401,)\n"
     ]
    }
   ],
   "source": [
    "# Define the path to the NetCDF file\n",
    "file_path = Path('./camels_gb_graphcast_10d_sample/time_series/pseudo/23006.nc')\n",
    "\n",
    "# Check if the file exists\n",
    "if not file_path.is_file():\n",
    "    raise FileNotFoundError(f'NetCDF file not found: {file_path}')\n",
    "\n",
    "# Load the NetCDF file\n",
    "ds = xr.open_dataset(file_path)\n",
    "\n",
    "# Display the dataset structure\n",
    "print(ds)\n",
    "\n",
    "# Inspect global attributes\n",
    "print('\\nGlobal Attributes:')\n",
    "print(ds.attrs)\n",
    "\n",
    "# Inspect variables and dimensions\n",
    "print('\\nVariables:')\n",
    "for var in ds.variables:\n",
    "    print(f'{var}: {ds[var].dims}, {ds[var].shape}')\n",
    "\n",
    "# Example: Extract data for a specific variable (e.g., temperature, if available)\n",
    "if 'temperature' in ds.variables:\n",
    "    temperature = ds['temperature']\n",
    "    print('\\nTemperature Data:')\n",
    "    print(temperature)"
   ]
  }
 ],
 "metadata": {
  "kernelspec": {
   "display_name": "neuralhydrology",
   "language": "python",
   "name": "python3"
  },
  "language_info": {
   "codemirror_mode": {
    "name": "ipython",
    "version": 3
   },
   "file_extension": ".py",
   "mimetype": "text/x-python",
   "name": "python",
   "nbconvert_exporter": "python",
   "pygments_lexer": "ipython3",
   "version": "3.12.9"
  }
 },
 "nbformat": 4,
 "nbformat_minor": 2
}
